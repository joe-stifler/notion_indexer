{
 "cells": [
  {
   "cell_type": "markdown",
   "metadata": {},
   "source": [
    "# Notion Indexer Exploration\n"
   ]
  },
  {
   "cell_type": "markdown",
   "metadata": {},
   "source": [
    "This notebook demonstrates how to use the Notion Python SDK to interact with a Notion page, fetch its content, and display it in Markdown format. "
   ]
  },
  {
   "cell_type": "code",
   "execution_count": 1,
   "metadata": {},
   "outputs": [],
   "source": [
    "%load_ext autoreload\n",
    "%autoreload 2"
   ]
  },
  {
   "cell_type": "markdown",
   "metadata": {},
   "source": [
    "## Install Notion Indexer"
   ]
  },
  {
   "cell_type": "markdown",
   "metadata": {},
   "source": [
    "We are assuming that the code provided in the previous responses is in a folder named `notion_indexer` inside the current directory, where this notebook is located. We need to install it before we can use it. \n"
   ]
  },
  {
   "cell_type": "code",
   "execution_count": null,
   "metadata": {},
   "outputs": [],
   "source": [
    "!pip install -r ../requirements.txt"
   ]
  },
  {
   "cell_type": "code",
   "execution_count": 4,
   "metadata": {},
   "outputs": [
    {
     "name": "stdout",
     "output_type": "stream",
     "text": [
      "Obtaining file:///home/joe/Documents/1-PROJECTS/notion_indexer\n",
      "  Preparing metadata (setup.py) ... \u001b[?25ldone\n",
      "\u001b[?25hInstalling collected packages: notion_indexer\n",
      "\u001b[33m  DEPRECATION: Legacy editable install of notion_indexer==0.1.0 from file:///home/joe/Documents/1-PROJECTS/notion_indexer (setup.py develop) is deprecated. pip 25.0 will enforce this behaviour change. A possible replacement is to add a pyproject.toml or enable --use-pep517, and use setuptools >= 64. If the resulting installation is not behaving as expected, try using --config-settings editable_mode=compat. Please consult the setuptools documentation for more information. Discussion can be found at https://github.com/pypa/pip/issues/11457\u001b[0m\u001b[33m\n",
      "\u001b[0m  Running setup.py develop for notion_indexer\n",
      "Successfully installed notion_indexer-0.1.0\n"
     ]
    }
   ],
   "source": [
    "!cd ../; pip install -e ."
   ]
  },
  {
   "cell_type": "markdown",
   "metadata": {},
   "source": [
    "##  ⚠️ Restart your jupyter notebook so that the previously installed library can be loaded ⚠️\n"
   ]
  },
  {
   "cell_type": "markdown",
   "metadata": {},
   "source": [
    "## Import Libraries \n"
   ]
  },
  {
   "cell_type": "markdown",
   "metadata": {},
   "source": [
    "Import necessary classes and modules from your custom Notion indexer and the Notion Python SDK."
   ]
  },
  {
   "cell_type": "code",
   "execution_count": 2,
   "metadata": {},
   "outputs": [],
   "source": [
    "# Notion Indexer modules\n",
    "from notion_indexer.notion_client import NotionClient\n",
    "from notion_indexer.notion_reader import NotionReader\n",
    "\n",
    "# Python libraries\n",
    "import os\n",
    "from dotenv import load_dotenv\n",
    "from IPython.display import display, Markdown"
   ]
  },
  {
   "cell_type": "markdown",
   "metadata": {},
   "source": [
    "## Load Environment Variables and Initialize Notion Client"
   ]
  },
  {
   "cell_type": "markdown",
   "metadata": {},
   "source": [
    "Load your Notion integration token from a `.env` file (ensure to create one and put your token in it as `NOTION_TOKEN=your_actual_token`) and create a Notion client object.\n"
   ]
  },
  {
   "cell_type": "code",
   "execution_count": 7,
   "metadata": {},
   "outputs": [],
   "source": [
    "load_dotenv()\n",
    "integration_token = os.getenv(\"NOTION_API_KEY\")\n",
    "\n",
    "# Ensure that the NOTION_TOKEN is properly connected with the required notion page, blocks, and databases\n",
    "notion_client = NotionClient(integration_token=integration_token)"
   ]
  },
  {
   "cell_type": "code",
   "execution_count": 9,
   "metadata": {},
   "outputs": [],
   "source": [
    "l = notion_client.client.databases.query"
   ]
  },
  {
   "cell_type": "code",
   "execution_count": 10,
   "metadata": {},
   "outputs": [
    {
     "data": {
      "text/plain": [
       "<bound method DatabasesEndpoint.query of <notion_client.api_endpoints.DatabasesEndpoint object at 0x7f4d9c1f3ad0>>"
      ]
     },
     "execution_count": 10,
     "metadata": {},
     "output_type": "execute_result"
    }
   ],
   "source": [
    "notion_client.client.databases.query"
   ]
  },
  {
   "cell_type": "code",
   "execution_count": 47,
   "metadata": {},
   "outputs": [],
   "source": [
    "notion_nodes = []\n",
    "notion_reader = NotionReader(integration_token=integration_token)\n",
    "\n",
    "filter = {\n",
    "    \"property\": \"Date\",\n",
    "    \"date\": {\n",
    "        \"on_or_after\": \"2025-01-22\"\n",
    "    }\n",
    "}\n",
    "\n",
    "notion_node = notion_reader.load_data(\n",
    "    \"https://www.notion.so/joe-stifler/eb15c9ddf31845d49a3dd94d72e7ad96?v=cc0b7c9400fb4aca826282425ce23cbf\",\n",
    "    max_depth=1,\n",
    "    filter=filter\n",
    ")\n",
    "notion_nodes.append(notion_node)"
   ]
  },
  {
   "cell_type": "code",
   "execution_count": 48,
   "metadata": {},
   "outputs": [
    {
     "data": {
      "text/html": [
       "<div>\n",
       "<style scoped>\n",
       "    .dataframe tbody tr th:only-of-type {\n",
       "        vertical-align: middle;\n",
       "    }\n",
       "\n",
       "    .dataframe tbody tr th {\n",
       "        vertical-align: top;\n",
       "    }\n",
       "\n",
       "    .dataframe thead th {\n",
       "        text-align: right;\n",
       "    }\n",
       "</style>\n",
       "<table border=\"1\" class=\"dataframe\">\n",
       "  <thead>\n",
       "    <tr style=\"text-align: right;\">\n",
       "      <th></th>\n",
       "      <th>5. Hora parei trabalho (rich_text)</th>\n",
       "      <th>📅 6. Checar calendário (checkbox)</th>\n",
       "      <th>⏱️⏰ 1. Acordar às 7am (checkbox)</th>\n",
       "      <th>⏱️💼 8. Trabalhar às 8am (checkbox)</th>\n",
       "      <th>8. Hora parei estudos (rich_text)</th>\n",
       "      <th>☕ 5. Tomar Café Manhã (checkbox)</th>\n",
       "      <th>⏱️🍽️ 9. Almoçar às 12pm (checkbox)</th>\n",
       "      <th>⏱️😴 0. Dormir às 23pm (checkbox)</th>\n",
       "      <th>2. Hora fui trabalhar (rich_text)</th>\n",
       "      <th>🍽️ 16. Jantar às 19:30pm (checkbox)</th>\n",
       "      <th>...</th>\n",
       "      <th>Status (select)</th>\n",
       "      <th>3. Hora fui almoçar (rich_text)</th>\n",
       "      <th>4. Hora voltei almoço (rich_text)</th>\n",
       "      <th>🍽️ 13. Fazer a janta (checkbox)</th>\n",
       "      <th>🚶 14. Caminhar por 15min (checkbox)</th>\n",
       "      <th>0. Hora fui dormir (rich_text)</th>\n",
       "      <th>1. Hora acordei (rich_text)</th>\n",
       "      <th>Date (date)</th>\n",
       "      <th>📞 12. Falar com mãe às 18pm (checkbox)</th>\n",
       "      <th>Name (title)</th>\n",
       "    </tr>\n",
       "  </thead>\n",
       "  <tbody>\n",
       "    <tr>\n",
       "      <th>0</th>\n",
       "      <td></td>\n",
       "      <td>True</td>\n",
       "      <td>True</td>\n",
       "      <td>False</td>\n",
       "      <td></td>\n",
       "      <td>True</td>\n",
       "      <td>False</td>\n",
       "      <td>False</td>\n",
       "      <td>10:00</td>\n",
       "      <td>False</td>\n",
       "      <td>...</td>\n",
       "      <td>In-Progress</td>\n",
       "      <td></td>\n",
       "      <td></td>\n",
       "      <td>False</td>\n",
       "      <td>False</td>\n",
       "      <td>01:20</td>\n",
       "      <td>7:20</td>\n",
       "      <td>2025-01-23</td>\n",
       "      <td>False</td>\n",
       "      <td>Daily Routine</td>\n",
       "    </tr>\n",
       "    <tr>\n",
       "      <th>1</th>\n",
       "      <td></td>\n",
       "      <td>True</td>\n",
       "      <td>True</td>\n",
       "      <td>False</td>\n",
       "      <td></td>\n",
       "      <td>True</td>\n",
       "      <td>False</td>\n",
       "      <td>False</td>\n",
       "      <td></td>\n",
       "      <td>True</td>\n",
       "      <td>...</td>\n",
       "      <td>Done</td>\n",
       "      <td></td>\n",
       "      <td></td>\n",
       "      <td>False</td>\n",
       "      <td>False</td>\n",
       "      <td></td>\n",
       "      <td></td>\n",
       "      <td>2025-01-22</td>\n",
       "      <td>False</td>\n",
       "      <td>Daily Routine</td>\n",
       "    </tr>\n",
       "  </tbody>\n",
       "</table>\n",
       "<p>2 rows × 31 columns</p>\n",
       "</div>"
      ],
      "text/plain": [
       "  5. Hora parei trabalho (rich_text)  📅 6. Checar calendário (checkbox)  \\\n",
       "0                                                                  True   \n",
       "1                                                                  True   \n",
       "\n",
       "   ⏱️⏰ 1. Acordar às 7am (checkbox)  ⏱️💼 8. Trabalhar às 8am (checkbox)  \\\n",
       "0                              True                               False   \n",
       "1                              True                               False   \n",
       "\n",
       "  8. Hora parei estudos (rich_text)  ☕ 5. Tomar Café Manhã (checkbox)  \\\n",
       "0                                                                True   \n",
       "1                                                                True   \n",
       "\n",
       "   ⏱️🍽️ 9. Almoçar às 12pm (checkbox)  ⏱️😴 0. Dormir às 23pm (checkbox)  \\\n",
       "0                               False                             False   \n",
       "1                               False                             False   \n",
       "\n",
       "  2. Hora fui trabalhar (rich_text)  🍽️ 16. Jantar às 19:30pm (checkbox)  ...  \\\n",
       "0                             10:00                                False  ...   \n",
       "1                                                                   True  ...   \n",
       "\n",
       "   Status (select) 3. Hora fui almoçar (rich_text)  \\\n",
       "0      In-Progress                                   \n",
       "1             Done                                   \n",
       "\n",
       "   4. Hora voltei almoço (rich_text)  🍽️ 13. Fazer a janta (checkbox)  \\\n",
       "0                                                               False   \n",
       "1                                                               False   \n",
       "\n",
       "   🚶 14. Caminhar por 15min (checkbox) 0. Hora fui dormir (rich_text)  \\\n",
       "0                                False                          01:20   \n",
       "1                                False                                  \n",
       "\n",
       "   1. Hora acordei (rich_text) Date (date)  \\\n",
       "0                         7:20  2025-01-23   \n",
       "1                               2025-01-22   \n",
       "\n",
       "   📞 12. Falar com mãe às 18pm (checkbox)   Name (title)  \n",
       "0                                   False  Daily Routine  \n",
       "1                                   False  Daily Routine  \n",
       "\n",
       "[2 rows x 31 columns]"
      ]
     },
     "execution_count": 48,
     "metadata": {},
     "output_type": "execute_result"
    }
   ],
   "source": [
    "notion_nodes[0].to_dataframe()"
   ]
  }
 ],
 "metadata": {
  "kernelspec": {
   "display_name": "notion",
   "language": "python",
   "name": "python3"
  },
  "language_info": {
   "codemirror_mode": {
    "name": "ipython",
    "version": 3
   },
   "file_extension": ".py",
   "mimetype": "text/x-python",
   "name": "python",
   "nbconvert_exporter": "python",
   "pygments_lexer": "ipython3",
   "version": "3.12.8"
  }
 },
 "nbformat": 4,
 "nbformat_minor": 2
}
